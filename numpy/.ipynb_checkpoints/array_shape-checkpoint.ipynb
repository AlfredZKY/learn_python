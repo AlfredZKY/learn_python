{
 "cells": [
  {
   "cell_type": "code",
   "execution_count": 1,
   "metadata": {},
   "outputs": [],
   "source": [
    "import numpy as np"
   ]
  },
  {
   "cell_type": "markdown",
   "metadata": {},
   "source": [
    "数组的变形  \n",
    "- 重塑(reshape)和打平(ravel,flatten)\n",
    "- 合并(concatenate,stack)和分裂(split)\n",
    "- 重复(repeat)和拼接(title)\n",
    "- 其他操作(sort,insert,delete,copy)"
   ]
  },
  {
   "cell_type": "markdown",
   "metadata": {},
   "source": [
    "重塑和打平\n",
    "- 重塑(reshape)和打平(ravel,flatten)这两个操作仅仅只改变数组的维度\n",
    "- 重塑是从低维到高维\n",
    "- 打平是从高维到低维"
   ]
  },
  {
   "cell_type": "code",
   "execution_count": 2,
   "metadata": {},
   "outputs": [
    {
     "name": "stdout",
     "output_type": "stream",
     "text": [
      "[ 0  1  2  3  4  5  6  7  8  9 10 11]\n",
      "[[ 0  1  2  3]\n",
      " [ 4  5  6  7]\n",
      " [ 8  9 10 11]]\n"
     ]
    }
   ],
   "source": [
    "# 将一维数组重塑成二维数组\n",
    "arr = np.arange(12)\n",
    "print(arr)\n",
    "print(arr.reshape((3,4)))"
   ]
  },
  {
   "cell_type": "markdown",
   "metadata": {},
   "source": [
    "当你重塑高维矩阵时，不想花时间算某一维度的元素个数时，可以用「-1」取代，程序会自动帮你计算出来。比如把 12 个元素重塑成 (2, 6)，你可以写成 (2,-1) 或者 (-1, 6)。"
   ]
  },
  {
   "cell_type": "code",
   "execution_count": 5,
   "metadata": {},
   "outputs": [
    {
     "name": "stdout",
     "output_type": "stream",
     "text": [
      "[[ 0  1  2  3]\n",
      " [ 4  5  6  7]\n",
      " [ 8  9 10 11]]\n",
      "[[ 0  1  2  3]\n",
      " [ 4  5  6  7]\n",
      " [ 8  9 10 11]]\n"
     ]
    }
   ],
   "source": [
    "print(arr.reshape((-1,4)))\n",
    "print(arr.reshape((3,-1)))"
   ]
  },
  {
   "cell_type": "code",
   "execution_count": 10,
   "metadata": {},
   "outputs": [
    {
     "name": "stdout",
     "output_type": "stream",
     "text": [
      "[[ 0  3  6  9]\n",
      " [ 1  4  7 10]\n",
      " [ 2  5  8 11]]\n",
      "[ 0  3  6  9  1  4  7 10  2  5  8 11]\n",
      "[ 0  3  6  9  1  4  7 10  2  5  8 11]\n"
     ]
    }
   ],
   "source": [
    "# 将二维数组打平为一维数组\n",
    "arr = np.arange(12).reshape((3,4),order='F')\n",
    "print(arr)\n",
    "ravel_arr = arr.ravel()\n",
    "print(ravel_arr)\n",
    "flatten_arr = arr.flatten()\n",
    "print(flatten_arr)"
   ]
  },
  {
   "cell_type": "markdown",
   "metadata": {},
   "source": [
    "ravel()或flatten()的不同之处是\n",
    "- ravel()按行主序打平时没有复制原数组，按列主序打平时复制了原数组\n",
    "- flatten()在打平时复制了原数组"
   ]
  },
  {
   "cell_type": "code",
   "execution_count": 13,
   "metadata": {},
   "outputs": [
    {
     "name": "stdout",
     "output_type": "stream",
     "text": [
      "[[0 1 2]\n",
      " [3 4 5]]\n",
      "[0 1 2 3 4 5]\n",
      "[[0 1 2]\n",
      " [3 4 5]]\n"
     ]
    }
   ],
   "source": [
    "# 代码验证 flatten\n",
    "arr = np.arange(6).reshape((2,-1))\n",
    "print(arr)\n",
    "flatten = arr.flatten()\n",
    "print(flatten)\n",
    "flatten[0] = 10000\n",
    "print(arr)"
   ]
  },
  {
   "cell_type": "code",
   "execution_count": 14,
   "metadata": {},
   "outputs": [
    {
     "name": "stdout",
     "output_type": "stream",
     "text": [
      "[100000      3      1      4      2      5]\n",
      "[[0 1 2]\n",
      " [3 4 5]]\n"
     ]
    }
   ],
   "source": [
    "# 代码验证 ravel在列主序的打平\n",
    "arr = np.arange(6).reshape((2,-1))\n",
    "ravel_F = arr.ravel(order='F')\n",
    "ravel_F[0] = 100000\n",
    "print(ravel_F)\n",
    "print(arr)"
   ]
  },
  {
   "cell_type": "code",
   "execution_count": 15,
   "metadata": {},
   "outputs": [
    {
     "name": "stdout",
     "output_type": "stream",
     "text": [
      "[100000      1      2      3      4      5]\n",
      "[[100000      1      2]\n",
      " [     3      4      5]]\n"
     ]
    }
   ],
   "source": [
    "# 代码验证 ravel在行主序的打平,没有复制原数组，原数组的第一个元素也改变了\n",
    "arr = np.arange(6).reshape((2,-1))\n",
    "ravel_C = arr.ravel(order='C')\n",
    "ravel_C[0] = 100000\n",
    "print(ravel_C)\n",
    "print(arr)"
   ]
  },
  {
   "cell_type": "code",
   "execution_count": null,
   "metadata": {},
   "outputs": [],
   "source": []
  }
 ],
 "metadata": {
  "file_extension": ".py",
  "kernelspec": {
   "display_name": "Python 3",
   "language": "python",
   "name": "python3"
  },
  "language_info": {
   "codemirror_mode": {
    "name": "ipython",
    "version": 3
   },
   "file_extension": ".py",
   "mimetype": "text/x-python",
   "name": "python",
   "nbconvert_exporter": "python",
   "pygments_lexer": "ipython3",
   "version": "3.6.5"
  },
  "mimetype": "text/x-python",
  "name": "python",
  "npconvert_exporter": "python",
  "pygments_lexer": "ipython3",
  "version": 3
 },
 "nbformat": 4,
 "nbformat_minor": 2
}
